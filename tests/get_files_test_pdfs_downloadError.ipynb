{
 "cells": [
  {
   "cell_type": "code",
   "execution_count": 1,
   "metadata": {},
   "outputs": [
    {
     "name": "stdout",
     "output_type": "stream",
     "text": [
      "-----\n",
      "Scraping from http://www.inegi.org.mx/est/contenidos/espanol/proyectos/censos/ce2009/cuestionarios.asp\n",
      "-----\n",
      "Successfully downloaded BAC.pdf\n",
      "Successfully downloaded A00.pdf\n",
      "Successfully downloaded M00.pdf\n",
      "Successfully downloaded E01.pdf\n",
      "Successfully downloaded ELE.pdf\n",
      "Successfully downloaded A90.pdf\n",
      "Successfully downloaded Z90.pdf\n",
      "Successfully downloaded I0S.pdf\n",
      "Successfully downloaded I00.pdf\n",
      "Successfully downloaded I02.pdf\n",
      "Successfully downloaded P00.pdf\n",
      "Successfully downloaded RUR.pdf\n",
      "Successfully downloaded CCS.pdf\n",
      "Successfully downloaded TYM.pdf\n",
      "Successfully downloaded TTP.pdf\n",
      "Successfully downloaded TD1.pdf\n",
      "Successfully downloaded C01.pdf\n",
      "Successfully downloaded CSS.pdf\n",
      "Successfully downloaded CAT.pdf\n",
      "Successfully downloaded SB1.pdf\n",
      "Successfully downloaded SS1.pdf\n",
      "-----\n",
      "Finished sraping from http://www.inegi.org.mx/est/contenidos/espanol/proyectos/censos/ce2009/cuestionarios.asp\n",
      "-----\n"
     ]
    }
   ],
   "source": [
    "# test get_files ability to download pdf files \n",
    "# that previously has weird download error\n",
    "import sys\n",
    "sys.path.append('/Users/yeyilin/desktop/URAP/POS/PythonTools')\n",
    "from get_files import get_files\n",
    "\n",
    "base = '/Users/'\n",
    "# url base to scrape from \n",
    "url = \"http://www.inegi.org.mx/est/contenidos/espanol/proyectos/censos/ce2009/cuestionarios.asp\"\n",
    "# folder base to download the files\n",
    "folder_base = base + 'yeyilin/desktop/URAP/POS/Data2'\n",
    "\n",
    "get_files(url, Type='pdf', folder=folder_base, overwrite=True)"
   ]
  }
 ],
 "metadata": {
  "kernelspec": {
   "display_name": "Python 3",
   "language": "python",
   "name": "python3"
  },
  "language_info": {
   "codemirror_mode": {
    "name": "ipython",
    "version": 3
   },
   "file_extension": ".py",
   "mimetype": "text/x-python",
   "name": "python",
   "nbconvert_exporter": "python",
   "pygments_lexer": "ipython3",
   "version": "3.6.5"
  }
 },
 "nbformat": 4,
 "nbformat_minor": 2
}
