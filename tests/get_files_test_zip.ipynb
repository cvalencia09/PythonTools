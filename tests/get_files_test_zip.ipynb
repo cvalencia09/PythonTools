{
 "cells": [
  {
   "cell_type": "code",
   "execution_count": 1,
   "metadata": {},
   "outputs": [
    {
     "name": "stdout",
     "output_type": "stream",
     "text": [
      "-----\n",
      "Scraping from http://www.inegi.org.mx/est/contenidos/proyectos/accesomicrodatos/ce2009/default.aspx\n",
      "-----\n",
      "Successfully downloaded mono_industria_minera.pdf\n",
      "Successfully downloaded mono_hombres_mujeres.pdf\n",
      "Successfully downloaded mono_micro_peque_mediana.pdf\n",
      "Successfully downloaded mono_orgs_operadores_agua.pdf\n",
      "Successfully downloaded mono_po_no_depende_rs.pdf\n",
      "Successfully downloaded rd09-resumen.pdf\n",
      "Successfully downloaded ce2009_dbf.zip\n",
      "Successfully downloaded ce2009_dta.zip\n",
      "Successfully downloaded CE2009_xlsx.zip\n",
      "Successfully downloaded CE2009_CSV.zip\n",
      "-----\n",
      "Finished sraping from http://www.inegi.org.mx/est/contenidos/proyectos/accesomicrodatos/ce2009/default.aspx\n",
      "-----\n"
     ]
    }
   ],
   "source": [
    "# test get_files ability to download zip files \n",
    "import sys\n",
    "sys.path.append('/Users/yeyilin/desktop/URAP/POS/PythonTools')\n",
    "from get_files import get_files\n",
    "\n",
    "base = '/Users/'\n",
    "# url base to scrape from \n",
    "url = \"http://www.ihttp://localhost:8888/notebooks/get_files_test_zip.ipynb#negi.org.mx/est/contenidos/proyectos/accesomicrodatos/ce2009/default.aspx\"\n",
    "# folder base to download the files\n",
    "folder_base = base + 'yeyilin/desktop/URAP/POS/Data2'\n",
    "Type = ['pdf','zip']\n",
    "\n",
    "get_files(url, Type=Type, folder=folder_base, overwrite=True)"
   ]
  }
 ],
 "metadata": {
  "kernelspec": {
   "display_name": "Python 3",
   "language": "python",
   "name": "python3"
  },
  "language_info": {
   "codemirror_mode": {
    "name": "ipython",
    "version": 3
   },
   "file_extension": ".py",
   "mimetype": "text/x-python",
   "name": "python",
   "nbconvert_exporter": "python",
   "pygments_lexer": "ipython3",
   "version": "3.6.5"
  }
 },
 "nbformat": 4,
 "nbformat_minor": 2
}
