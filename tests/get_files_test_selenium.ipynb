{
 "cells": [
  {
   "cell_type": "code",
   "execution_count": 1,
   "metadata": {},
   "outputs": [
    {
     "name": "stdout",
     "output_type": "stream",
     "text": [
      "-----\n",
      "Scraping from http://www.inegi.org.mx/est/contenidos/espanol/proyectos/censos/ce2009/cuestionarios.asp\n",
      "-----\n",
      "Successfully downloaded BAC.pdf\n",
      "Successfully downloaded A00.pdf\n",
      "Successfully downloaded M00.pdf\n",
      "Successfully downloaded E01.pdf\n",
      "Successfully downloaded ELE.pdf\n",
      "Successfully downloaded A90.pdf\n",
      "Successfully downloaded Z90.pdf\n",
      "Successfully downloaded I0S.pdf\n",
      "Successfully downloaded I00.pdf\n",
      "Successfully downloaded I02.pdf\n",
      "Successfully downloaded P00.pdf\n",
      "Successfully downloaded RUR.pdf\n",
      "Successfully downloaded CCS.pdf\n",
      "Successfully downloaded TYM.pdf\n",
      "Successfully downloaded TTP.pdf\n",
      "Successfully downloaded TD1.pdf\n",
      "Successfully downloaded C01.pdf\n",
      "Successfully downloaded CSS.pdf\n",
      "Successfully downloaded CAT.pdf\n",
      "Successfully downloaded SB1.pdf\n",
      "Successfully downloaded SS1.pdf\n",
      "-----\n",
      "Finished sraping from http://www.inegi.org.mx/est/contenidos/espanol/proyectos/censos/ce2009/cuestionarios.asp\n",
      "-----\n"
     ]
    }
   ],
   "source": [
    "# test get_files ability to download pdf files\n",
    "import sys\n",
    "sys.path.append('/Users/yeyilin/desktop/URAP/POS/PythonTools')\n",
    "from get_files import get_files\n",
    "\n",
    "base = '/Users/'\n",
    "# url base to scrape from \n",
    "url_base = 'http://www.inegi.org.mx/est/contenidos/espanol/proyectos/censos/ce2009/cuestionarios.asp'\n",
    "# folder base to download the files\n",
    "folder_base = base + 'yeyilin/desktop/URAP/POS/Data2'\n",
    "\n",
    "get_files(url_base,'pdf',folder=folder_base,overwrite= True)"
   ]
  },
  {
   "cell_type": "code",
   "execution_count": 2,
   "metadata": {},
   "outputs": [
    {
     "name": "stdout",
     "output_type": "stream",
     "text": [
      "-----\n",
      "Scraping from http://www.inegi.org.mx/est/contenidos/espanol/proyectos/censos/ce2009/cuestionarios.asp\n",
      "-----\n",
      "Successfully downloaded BAC.pdf\n",
      "Successfully downloaded A00.pdf\n",
      "Successfully downloaded M00.pdf\n",
      "Successfully downloaded E01.pdf\n",
      "Successfully downloaded ELE.pdf\n",
      "Successfully downloaded A90.pdf\n",
      "Successfully downloaded Z90.pdf\n",
      "Successfully downloaded I0S.pdf\n",
      "Successfully downloaded I00.pdf\n",
      "Successfully downloaded I02.pdf\n",
      "Successfully downloaded P00.pdf\n",
      "Successfully downloaded RUR.pdf\n",
      "Successfully downloaded CCS.pdf\n",
      "Successfully downloaded TYM.pdf\n",
      "Successfully downloaded TTP.pdf\n",
      "Successfully downloaded TD1.pdf\n",
      "Successfully downloaded C01.pdf\n",
      "Successfully downloaded CSS.pdf\n",
      "Successfully downloaded CAT.pdf\n",
      "Successfully downloaded SB1.pdf\n",
      "Successfully downloaded SS1.pdf\n",
      "BAC.pdf already downloaded\n",
      "BAC.pdf already downloaded\n",
      "A00.pdf already downloaded\n",
      "A00.pdf already downloaded\n",
      "M00.pdf already downloaded\n",
      "M00.pdf already downloaded\n",
      "E01.pdf already downloaded\n",
      "E01.pdf already downloaded\n",
      "ELE.pdf already downloaded\n",
      "ELE.pdf already downloaded\n",
      "A90.pdf already downloaded\n",
      "-----\n",
      "Finished sraping from http://www.inegi.org.mx/est/contenidos/espanol/proyectos/censos/ce2009/cuestionarios.asp\n",
      "-----\n"
     ]
    }
   ],
   "source": [
    "# test the newly added filepath parameter\n",
    "# set count to -1 to use the Selenium\n",
    "# Since we download the files twice: \n",
    "# once using the regular way and once using Selenium \n",
    "# \"*****.pdf already downloaded\" notice will be printed\n",
    "get_files(url_base,'pdf',folder=folder_base,overwrite=True, \n",
    "          filepath=\"/Applications/chromedriver\", count=-1)"
   ]
  },
  {
   "cell_type": "code",
   "execution_count": 4,
   "metadata": {},
   "outputs": [
    {
     "name": "stdout",
     "output_type": "stream",
     "text": [
      "-----\n",
      "Scraping from http://www.inegi.org.mx/est/contenidos/espanol/proyectos/censos/ce2009/cuestionarios.asp\n",
      "-----\n",
      "BAC.pdf already downloaded\n",
      "BAC.pdf already downloaded\n",
      "A00.pdf already downloaded\n",
      "A00.pdf already downloaded\n",
      "M00.pdf already downloaded\n",
      "M00.pdf already downloaded\n",
      "E01.pdf already downloaded\n",
      "E01.pdf already downloaded\n",
      "ELE.pdf already downloaded\n",
      "ELE.pdf already downloaded\n",
      "A90.pdf already downloaded\n",
      "A90.pdf already downloaded\n",
      "Z90.pdf already downloaded\n",
      "Z90.pdf already downloaded\n",
      "I0S.pdf already downloaded\n",
      "I0S.pdf already downloaded\n",
      "I00.pdf already downloaded\n",
      "I00.pdf already downloaded\n",
      "I02.pdf already downloaded\n",
      "I02.pdf already downloaded\n",
      "P00.pdf already downloaded\n",
      "P00.pdf already downloaded\n",
      "RUR.pdf already downloaded\n",
      "RUR.pdf already downloaded\n",
      "CCS.pdf already downloaded\n",
      "CCS.pdf already downloaded\n",
      "TYM.pdf already downloaded\n",
      "TYM.pdf already downloaded\n",
      "TTP.pdf already downloaded\n",
      "TTP.pdf already downloaded\n",
      "TD1.pdf already downloaded\n",
      "TD1.pdf already downloaded\n",
      "C01.pdf already downloaded\n",
      "C01.pdf already downloaded\n",
      "CSS.pdf already downloaded\n",
      "CSS.pdf already downloaded\n",
      "CAT.pdf already downloaded\n",
      "CAT.pdf already downloaded\n",
      "SB1.pdf already downloaded\n",
      "SB1.pdf already downloaded\n",
      "SS1.pdf already downloaded\n",
      "SS1.pdf already downloaded\n",
      "Message: 'somerandompaththatdoesn'texist' executable needs to be in PATH. Please see https://sites.google.com/a/chromium.org/chromedriver/home\n",
      "\n",
      "Please don't close the pop-up Chrome window while scraping\n",
      "Please download the ChromeDriver from the following link: \n",
      "https://sites.google.com/a/chromium.org/chromedriver/home\n",
      "Please download the Selenium Package from the following link: \n",
      "https://pypi.org/project/selenium/ \n"
     ]
    }
   ],
   "source": [
    "# Intentionally set the filepath to a wrong filepath and test\n",
    "# get_files' ability to handle the error\n",
    "get_files(url_base,'pdf',folder=folder_base,overwrite=False, \n",
    "          filepath = \"/somerandompaththatdoesn'texist\", count = -1)"
   ]
  },
  {
   "cell_type": "code",
   "execution_count": 7,
   "metadata": {},
   "outputs": [
    {
     "name": "stdout",
     "output_type": "stream",
     "text": [
      "-----\n",
      "Scraping from http://www.inegi.org.mx/est/contenidos/proyectos/accesomicrodatos/ce2009/default.aspx\n",
      "-----\n",
      "Successfully downloaded ce2009_dbf.zip\n",
      "Successfully downloaded ce2009_dta.zip\n",
      "Successfully downloaded CE2009_xlsx.zip\n",
      "Successfully downloaded CE2009_CSV.zip\n",
      "ce2009_dbf.zip already downloaded\n",
      "ce2009_dta.zip already downloaded\n",
      "CE2009_xlsx.zip already downloaded\n",
      "CE2009_CSV.zip already downloaded\n",
      "-----\n",
      "Finished sraping from http://www.inegi.org.mx/est/contenidos/proyectos/accesomicrodatos/ce2009/default.aspx\n",
      "-----\n"
     ]
    }
   ],
   "source": [
    "# test get_files' ability to download .zip files\n",
    "# Since we download the files twice: \n",
    "# once using the regular way and once using Selenium \n",
    "# \"*****.zip already downloaded\" notice will be printed\n",
    "url = \"http://www.inegi.org.mx/est/contenidos/proyectos/accesomicrodatos/ce2009/default.aspx\"\n",
    "get_files(url,'zip',folder=folder_base,overwrite=True,count=-1)"
   ]
  }
 ],
 "metadata": {
  "kernelspec": {
   "display_name": "Python 3",
   "language": "python",
   "name": "python3"
  },
  "language_info": {
   "codemirror_mode": {
    "name": "ipython",
    "version": 3
   },
   "file_extension": ".py",
   "mimetype": "text/x-python",
   "name": "python",
   "nbconvert_exporter": "python",
   "pygments_lexer": "ipython3",
   "version": "3.6.5"
  }
 },
 "nbformat": 4,
 "nbformat_minor": 2
}
