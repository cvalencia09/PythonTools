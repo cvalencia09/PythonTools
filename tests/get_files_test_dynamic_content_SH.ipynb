{
 "cells": [
  {
   "cell_type": "code",
   "execution_count": 4,
   "metadata": {},
   "outputs": [
    {
     "name": "stdout",
     "output_type": "stream",
     "text": [
      "-----\n",
      "Scraping from http://www.beta.inegi.org.mx/proyectos/encestablecimientos/especiales/enaproce/2015/\n",
      "-----\n",
      "Successfully downloaded Cuest_Micro.pdf\n",
      "Successfully downloaded Cuest_Comser.pdf\n",
      "Successfully downloaded ENAPROCE_15.pdf\n",
      "Successfully downloaded nota_tecnica.pdf\n",
      "-----\n",
      "Finished sraping from http://www.beta.inegi.org.mx/proyectos/encestablecimientos/especiales/enaproce/2015/\n",
      "-----\n"
     ]
    }
   ],
   "source": [
    "# test Selenium's ability to scrape dynamic content\n",
    "import sys\n",
    "sys.path.append('C:/Dropbox/PythonTools')\n",
    "from get_files import get_files\n",
    "\n",
    "base = '/Users/'\n",
    "# url base to scrape from \n",
    "url= 'http://www.beta.inegi.org.mx/proyectos/encestablecimientos/especiales/enaproce/2015/'\n",
    "# folder base to download the files\n",
    "folder_base = base + 'yeyilin/desktop/URAP/POS/Data2'\n",
    "\n",
    "get_files(url, Type='pdf', overwrite=True,\n",
    "    filepath = \"C:/Dropbox/Programs/chromedriver.exe\"\n",
    ")"
   ]
  }
 ],
 "metadata": {
  "kernelspec": {
   "display_name": "Python 3",
   "language": "python",
   "name": "python3"
  },
  "language_info": {
   "codemirror_mode": {
    "name": "ipython",
    "version": 3
   },
   "file_extension": ".py",
   "mimetype": "text/x-python",
   "name": "python",
   "nbconvert_exporter": "python",
   "pygments_lexer": "ipython3",
   "version": "3.6.4"
  }
 },
 "nbformat": 4,
 "nbformat_minor": 2
}
