{
 "cells": [
  {
   "cell_type": "code",
   "execution_count": 1,
   "metadata": {},
   "outputs": [
    {
     "name": "stdout",
     "output_type": "stream",
     "text": [
      "-----\n",
      "Scraping from http://www.inegi.org.mx/est/contenidos/espanol/proyectos/censos/ce2009/cuestionarios.asp\n",
      "-----\n",
      "Successfully downloaded BAC.pdf\n",
      "Successfully downloaded A00.pdf\n",
      "Successfully downloaded M00.pdf\n",
      "Successfully downloaded E01.pdf\n",
      "Successfully downloaded ELE.pdf\n",
      "Successfully downloaded A90.pdf\n",
      "Successfully downloaded Z90.pdf\n",
      "Successfully downloaded I0S.pdf\n",
      "Successfully downloaded I00.pdf\n",
      "Successfully downloaded I02.pdf\n",
      "Successfully downloaded P00.pdf\n",
      "Successfully downloaded RUR.pdf\n",
      "Successfully downloaded CCS.pdf\n",
      "Successfully downloaded TYM.pdf\n",
      "Successfully downloaded TTP.pdf\n",
      "Successfully downloaded TD1.pdf\n",
      "Successfully downloaded C01.pdf\n",
      "Successfully downloaded CSS.pdf\n",
      "Successfully downloaded CAT.pdf\n",
      "Successfully downloaded SB1.pdf\n",
      "Successfully downloaded SS1.pdf\n",
      "-----\n",
      "Finished sraping from http://www.inegi.org.mx/est/contenidos/espanol/proyectos/censos/ce2009/cuestionarios.asp\n",
      "-----\n"
     ]
    }
   ],
   "source": [
    "url = \"http://www.inegi.org.mx/est/contenidos/espanol/proyectos/censos/ce2009/cuestionarios.asp\"\n",
    "import sys\n",
    "sys.path.append('/Users/yeyilin/desktop/URAP/POS/PythonTools')\n",
    "\n",
    "from get_files import get_files\n",
    "\n",
    "base = '/Users/'\n",
    "url_base = 'http://portafolioinfo.cnbv.gob.mx/PortafolioInformacion/'\n",
    "urlbase = 'http://www.inegi.org.mx'  #change this line whenever you change the website to scrape\n",
    "folder_base = base + 'yeyilin/desktop/URAP/POS/Data2'\n",
    "\n",
    "get_files(myurl = url,Type = 'pdf',folder = folder_base,overwrite = False)"
   ]
  },
  {
   "cell_type": "code",
   "execution_count": null,
   "metadata": {},
   "outputs": [],
   "source": []
  }
 ],
 "metadata": {
  "kernelspec": {
   "display_name": "Python 3",
   "language": "python",
   "name": "python3"
  },
  "language_info": {
   "codemirror_mode": {
    "name": "ipython",
    "version": 3
   },
   "file_extension": ".py",
   "mimetype": "text/x-python",
   "name": "python",
   "nbconvert_exporter": "python",
   "pygments_lexer": "ipython3",
   "version": "3.6.4"
  }
 },
 "nbformat": 4,
 "nbformat_minor": 2
}
