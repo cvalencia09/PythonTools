{
 "cells": [
  {
   "cell_type": "code",
   "execution_count": 2,
   "metadata": {},
   "outputs": [
    {
     "name": "stdout",
     "output_type": "stream",
     "text": [
      "-----\n",
      "Scraping from https://www.gob.mx/cnbv/acciones-y-programas/banca-multiple-y-banca-de-desarrollo\n",
      "-----\n",
      "Successfully downloaded CUB_R03_J_y_R27_B-2711_Servicios_de_Inversion_Vigencia_201401-actual_Actualizacion_31_Agosto_2015.pdf\n",
      "Successfully downloaded CUB_Metodologia_para_calculo_de_cuotas_IPAB_Vigencia_201401-actual_Actualizacion_21_Septiembre_2015.pdf\n",
      "Successfully downloaded CUB_R04_C-0442_y_443_Cartera_de_Creditos_Comerciales_Vigencia_200906-actual_Actualizacion_06_Mayo_2016.pdf\n",
      "Successfully downloaded CUB_R04_C-0444_al_447_Cartera_de_Creditos_Comerciales_Vigencia_200906-actual_Actualizacion_01_Septiembre_2015.pdf\n",
      "Successfully downloaded R04_C-0447_Seguimiento_de_garant_as_BD.pdf\n",
      "Successfully downloaded CUB_R04_C-0447_Seguimiento_de_garantias_Vigencia_a_partir_201701_Actualizacion_11_Enero_2017.pdf\n",
      "Successfully downloaded BM_BD_R04_C-0450_Garantes_y_Garant_as_Periodicidad_201312-201605_Actualizaci_n_06_de_Junio_de_2016.pdf\n",
      "Successfully downloaded CUB_R04_C-0450_Garantes_y_Garantias_Vigencia_201606-actual_Actualizacion_12_Marzo_2018.pdf\n",
      "Successfully downloaded BM_BD_R04_C-0453_al_457_Estados_y_Municipios_Periodicidad_201312-201605_Actualizaci_n_06_de_Junio_de_2016.pdf\n",
      "Successfully downloaded BM_BD_R04_C-0458_al_462_Entidades_Financieras_Periodicidad_201312-201605_Actualizaci_n_06_de_Junio_de_2016.pdf\n",
      "Successfully downloaded BM_BD_R04_C-0463_al_467_Empresas_menores_a_14_mdu_Periodicidad_201312-201605_Actualizaci_n_06_de_Junio_de_2016.pdf\n",
      "Successfully downloaded BM_BD_R04_C-0468_al_472_Empresas_mayores_a_14mdu_Periodicidad_201312-201605_Actualizaci_n_06_de_Junio_de_2016.pdf\n",
      "Successfully downloaded BM_BD_R04_C-0473_al_477_GF_y_OD_menores_a_14_mdu_Periodicidad_201312-201605_Actualizaci_n_06_de_Junio_de_2016.pdf\n",
      "Successfully downloaded BM_BD_R04_C-0478_al_482_GF_y_OD_mayores_a_14mdu_Periodicidad_201312-201605_Actualizaci_n_06_de_Junio_de_2016.pdf\n",
      "Successfully downloaded CUB_R04_C-0453_al_457_Estados_y_Municipios_Periodicidad_201606-actual_Actualizaci_n_12_de_Marzo_de_2018.pdf\n",
      "Successfully downloaded CUB_R04_C-0458_al_462_Entidades_Financieras_Periodicidad_201606-actual_Actualizaci_n_12_de_Marzo_de_2018.pdf\n",
      "error downloading CUB_R04_C-0463_al_467_Empresas_menores_a_14_mdu_Periodicidad_201606-actual_Actualizaci_n_08_Mayo_2018.pdf\n",
      "HTTP Error 404: Not Found\n",
      "Successfully downloaded CUB_R04_C-0468_al_472_Empresas_mayores_a_14_mdu_Periodicidad_201606-actual_Actualizaci_n_08_Mayo_2018.pdf\n",
      "Successfully downloaded CUB_R04_C-0473_al_477_GF_y_OD_menores_a_14_mdu_Periodicidad_201606-actual_Actualizaci_n_12_de_Marzo_de_2018.pdf\n",
      "Successfully downloaded CUB_R04_C-0478_al_482_GF_y_OD_mayores_a_14_mdu_Periodicidad_201606-actual_Actualizaci_n_12_de_Marzo_de_2018.pdf\n",
      "error downloading CUB_R04_C-0483_al_485_Proyectos_de_Inversi_n_Periodicidad_201606-actual_Actualizaci_n_08_Mayo_2018.pdf\n",
      "HTTP Error 404: Not Found\n",
      "Successfully downloaded BM_BD_R04_H-0491_al_493_Cartera_de_Cr_ditos_a_la_Vivienda_Periodicidad_200906_-201605_Actualizaci_n_06_de_Junio_de_2016.pdf\n",
      "Successfully downloaded BM_BD_R04_H-0491_al_493_Cartera_de_Cr_ditos_a_la_Vivienda_Periodicidad_201606-actual_Actualizaci_n_28_de_Junio_de_2016.pdf\n",
      "Successfully downloaded CUB_R04_H-0491_al_0493_Cr_ditos_a_la_Vivienda_Vigencia_a_partir_de_201706_Actualizaci_n_16_noviembre_2017.pdf\n",
      "Successfully downloaded CUB_BD_R04_H-0491_al_0493_Cr_ditos_a_la_Vivienda_Vigencia_a_partir_de_201706_Actualizaci_n_17_noviembre_2017.pdf\n",
      "Successfully downloaded BM_BD_R07_A_Impuestos_a_la_Utilidad_y_PTU_Diferidos_Periodicidad_201402-201512_Actualizaci_n_01_de_Septiembre_de_2015.pdf\n",
      "Successfully downloaded BM_BD_R15_B-1521_y_1522_Operaciones_por_servicios_de_Banca_Elect_nica_Periodicidad_201312-201512_Actualizaci_n_01_de_Septiembre_de_2015.pdf\n",
      "Successfully downloaded BM_BD_R15_B-1522_1523_y_1524_Operaciones_por_servicios_de_Banca_Electronica_Vigencia_201609-actual_Actualizacion_05_de_Septiembre_de_2016.pdf\n",
      "Successfully downloaded BM_BD_R24_B-2421_Informaci_n_de_productos_de_captaci_n_Periodicidad_201606-actual_Actualizaci_n_03_de_Agosto_de_2016.pdf\n",
      "Successfully downloaded BM_BD_R24_B-2421__2422_y_2431_Informaci_n_Operativa_Periodicidad_201312-201605_Actualizaci_n_06_de_Junio_de_2016.pdf\n",
      "Successfully downloaded CUB_R24_B-2422_Inf._de_oper._referentes_a_sucursales__t.c._y_otras_variables_operativas_Periodicidad_201606-actual_Actualizaci_n_01_de_Junio_de_2018.pdf\n",
      "Successfully downloaded BM_BD_R24_B-2423_Informaci_n_Operativa_Periodicidad_201306-actual_Actualizaci_n_08_de_Octubre_de_2015.pdf\n",
      "Successfully downloaded CUB_R24_C-2431_Informacion_de_operaciones_con_partes_relacionadas_Vigencia_201606-actual_Actualizacion_11_Julio_2016.pdf\n",
      "Successfully downloaded BM_BD_R24_D-2441_y_2442_Informaci_n_Operativa_Periodicidad_201312-201512_Actualizaci_n_01_de_Septiembre_de_2015.pdf\n",
      "Successfully downloaded BM_BD_R24_D-2441__2442_y_2443_Informaci_n_de_servicios_financieros_Periodicidad_201601-actual_Actualizaci_n_06_de_Junio_de_2018.pdf\n",
      "Successfully downloaded BM_BD_R24_E-_2450_al_2452_Informaci_n_Operativa_Periodicidad_201312-actual_Actualizaci_n_07_de_Junio_de_2016.pdf\n",
      "Successfully downloaded BM_BD_R26_A-2610_y_2611_B-2612_C-2613_Informaci_n_por_Comisionista_Periodicidad_201312-actual_Actualizaci_n_08_de_Febrero_de_2016.pdf\n",
      "Successfully downloaded BM_BD_R27_A-2701_Reclamaciones_Periodicidad_201312-201512_Actualizaci_n_01_de_Septiembre_de_2015.pdf\n",
      "Successfully downloaded BM_BD_R27_A-2701_Reclamaciones_Vigencia_201609-actual_Actualizacion_05_Septiembre_2016.pdf\n",
      "Successfully downloaded BM_BD_R28_A-2811_al_2813_Informaci_n_de_Riesgo_Operacional_Periodicidad_201312-201512_Actualizaci_n_21_de_Septiembre_de_2015.pdf\n",
      "Successfully downloaded CUB_R28_A-2811_al_2814_Informacion_de_Riesgo_Operacional_Vigencia_201601-actual_Actualizacion_13_Septiembre_2017.pdf\n",
      "Successfully downloaded BM_BD_R29_A-2911_Aseguramientos_Transferencias_y_Desbloqueos_de_Cuentas_Periodicidad_201601-actual_Actualizaci_n_07_de_Julio_de_2016.pdf\n",
      "Successfully downloaded BM_R14_A-1411_Integraci_n_Accionaria_Vigencia_2016_Actualizaci_n_01_Diciembre_2016_.pdf\n",
      "-----\n",
      "Finished sraping from https://www.gob.mx/cnbv/acciones-y-programas/banca-multiple-y-banca-de-desarrollo\n",
      "-----\n"
     ]
    }
   ],
   "source": [
    "# test get_files' ability to download pdf from a specific website with \n",
    "# url that has repetitive front \n",
    "url = \"https://www.gob.mx/cnbv/acciones-y-programas/banca-multiple-y-banca-de-desarrollo\"\n",
    "import sys\n",
    "sys.path.append('/Users/yeyilin/desktop/URAP/POS/PythonTools')\n",
    "\n",
    "from get_files import get_files\n",
    "\n",
    "base = '/Users/'\n",
    "folder_base = base + 'yeyilin/desktop/URAP/POS/Data2'\n",
    "\n",
    "\n",
    "get_files(url,Type = \"pdf\",folder = folder_base, overwrite = False)"
   ]
  }
 ],
 "metadata": {
  "kernelspec": {
   "display_name": "Python 3",
   "language": "python",
   "name": "python3"
  },
  "language_info": {
   "codemirror_mode": {
    "name": "ipython",
    "version": 3
   },
   "file_extension": ".py",
   "mimetype": "text/x-python",
   "name": "python",
   "nbconvert_exporter": "python",
   "pygments_lexer": "ipython3",
   "version": "3.6.5"
  }
 },
 "nbformat": 4,
 "nbformat_minor": 2
}
