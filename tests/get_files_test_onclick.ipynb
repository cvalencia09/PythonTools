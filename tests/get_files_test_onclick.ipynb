{
 "cells": [
  {
   "cell_type": "code",
   "execution_count": 1,
   "metadata": {},
   "outputs": [
    {
     "name": "stdout",
     "output_type": "stream",
     "text": [
      "-----\n",
      "Scraping from http://www.inegi.org.mx/est/contenidos/proyectos/accesomicrodatos/enafin/2015/\n",
      "-----\n",
      "Successfully downloaded ENAFIN2015Cues.pdf\n",
      "-----\n",
      "Finished sraping from http://www.inegi.org.mx/est/contenidos/proyectos/accesomicrodatos/enafin/2015/\n",
      "-----\n"
     ]
    }
   ],
   "source": [
    "# test get_files to scrape from links inside onclick\n",
    "import sys\n",
    "sys.path.append('/Users/yeyilin/desktop/URAP/POS/PythonTools')\n",
    "from get_files import get_files\n",
    "\n",
    "base = '/Users/'\n",
    "# url base to scrape from, this link only has useful urls iniside the onclick \n",
    "url_base = 'http://www.inegi.org.mx/est/contenidos/proyectos/accesomicrodatos/enafin/2015/'\n",
    "# folder base to download the files\n",
    "folder_base = base + 'yeyilin/desktop/URAP/POS/Data2'\n",
    "\n",
    "get_files(myurl=url_base, Type='pdf', folder=folder_base, overwrite=True)"
   ]
  }
 ],
 "metadata": {
  "kernelspec": {
   "display_name": "Python 3",
   "language": "python",
   "name": "python3"
  },
  "language_info": {
   "codemirror_mode": {
    "name": "ipython",
    "version": 3
   },
   "file_extension": ".py",
   "mimetype": "text/x-python",
   "name": "python",
   "nbconvert_exporter": "python",
   "pygments_lexer": "ipython3",
   "version": "3.6.5"
  }
 },
 "nbformat": 4,
 "nbformat_minor": 2
}
