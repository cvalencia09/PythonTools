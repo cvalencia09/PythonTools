{
 "cells": [
  {
   "cell_type": "markdown",
   "metadata": {},
   "source": [
    "## Testing solution to `onclick` issue\n",
    "### Sean Higgins\n",
    "### 24jun2018\n",
    "\n",
    "Objective: Try to replicate Angelyna's `get_files_test_scrape_from_onclick.ipynb`"
   ]
  },
  {
   "cell_type": "code",
   "execution_count": 2,
   "metadata": {},
   "outputs": [],
   "source": [
    "import sys\n",
    "import os\n",
    "sys.path.append(os.path.join(\"C:\\Dropbox\",\"PythonTools\"))\n",
    "\n",
    "from get_files import get_files\n",
    "\n",
    "dest_folder = os.path.join(\"C:\\Dropbox\",\"PythonTools\",\"tests\",\"output\") "
   ]
  },
  {
   "cell_type": "code",
   "execution_count": 3,
   "metadata": {},
   "outputs": [
    {
     "name": "stdout",
     "output_type": "stream",
     "text": [
      "-----\n",
      "Scraping from http://www.inegi.org.mx/est/contenidos/proyectos/accesomicrodatos/enafin/2015/\n",
      "-----\n"
     ]
    },
    {
     "ename": "UnboundLocalError",
     "evalue": "local variable 'skipornot' referenced before assignment",
     "output_type": "error",
     "traceback": [
      "\u001b[1;31m---------------------------------------------------------------------------\u001b[0m",
      "\u001b[1;31mUnboundLocalError\u001b[0m                         Traceback (most recent call last)",
      "\u001b[1;32m<ipython-input-3-3f0df5dbfa02>\u001b[0m in \u001b[0;36m<module>\u001b[1;34m()\u001b[0m\n\u001b[0;32m      2\u001b[0m           \u001b[1;34m'pdf'\u001b[0m\u001b[1;33m,\u001b[0m\u001b[1;33m\u001b[0m\u001b[0m\n\u001b[0;32m      3\u001b[0m           \u001b[0mfolder\u001b[0m\u001b[1;33m=\u001b[0m\u001b[0mdest_folder\u001b[0m\u001b[1;33m,\u001b[0m\u001b[1;33m\u001b[0m\u001b[0m\n\u001b[1;32m----> 4\u001b[1;33m           overwrite=True)\n\u001b[0m",
      "\u001b[1;32mC:\\Dropbox\\PythonTools\\get_files.py\u001b[0m in \u001b[0;36mget_files\u001b[1;34m(myurl, Type, folder, overwrite, contains, count)\u001b[0m\n\u001b[0;32m    161\u001b[0m                                                 \u001b[1;32mif\u001b[0m \u001b[0mcheckname\u001b[0m\u001b[1;33m.\u001b[0m\u001b[0msearch\u001b[0m\u001b[1;33m(\u001b[0m\u001b[0madjurlon\u001b[0m\u001b[1;33m)\u001b[0m \u001b[1;33m==\u001b[0m \u001b[1;32mNone\u001b[0m\u001b[1;33m:\u001b[0m\u001b[1;33m\u001b[0m\u001b[0m\n\u001b[0;32m    162\u001b[0m                                                         \u001b[0mskipornot\u001b[0m \u001b[1;33m=\u001b[0m \u001b[1;32mTrue\u001b[0m\u001b[1;33m\u001b[0m\u001b[0m\n\u001b[1;32m--> 163\u001b[1;33m                                 \u001b[1;32mif\u001b[0m \u001b[0mskipornot\u001b[0m\u001b[1;33m:\u001b[0m \u001b[1;32mcontinue\u001b[0m\u001b[1;33m\u001b[0m\u001b[0m\n\u001b[0m\u001b[0;32m    164\u001b[0m                                 \u001b[0murl_on\u001b[0m \u001b[1;33m=\u001b[0m \u001b[0mre\u001b[0m\u001b[1;33m.\u001b[0m\u001b[0msub\u001b[0m\u001b[1;33m(\u001b[0m\u001b[1;34mr'http://.*/'\u001b[0m\u001b[1;33m,\u001b[0m \u001b[1;34m\"\"\u001b[0m\u001b[1;33m,\u001b[0m \u001b[0madjurlon\u001b[0m\u001b[1;33m)\u001b[0m\u001b[1;33m\u001b[0m\u001b[0m\n\u001b[0;32m    165\u001b[0m                                 \u001b[1;32mif\u001b[0m \u001b[0murl_on\u001b[0m \u001b[1;32min\u001b[0m \u001b[0malready\u001b[0m \u001b[1;32mand\u001b[0m \u001b[0moverwrite\u001b[0m \u001b[1;33m==\u001b[0m \u001b[1;32mFalse\u001b[0m\u001b[1;33m:\u001b[0m\u001b[1;33m\u001b[0m\u001b[0m\n",
      "\u001b[1;31mUnboundLocalError\u001b[0m: local variable 'skipornot' referenced before assignment"
     ]
    }
   ],
   "source": [
    "get_files('http://www.inegi.org.mx/est/contenidos/proyectos/accesomicrodatos/enafin/2015/',\n",
    "          'pdf',\n",
    "          folder=dest_folder,\n",
    "          overwrite=True)"
   ]
  }
 ],
 "metadata": {
  "kernelspec": {
   "display_name": "Python 3",
   "language": "python",
   "name": "python3"
  },
  "language_info": {
   "codemirror_mode": {
    "name": "ipython",
    "version": 3
   },
   "file_extension": ".py",
   "mimetype": "text/x-python",
   "name": "python",
   "nbconvert_exporter": "python",
   "pygments_lexer": "ipython3",
   "version": "3.6.4"
  }
 },
 "nbformat": 4,
 "nbformat_minor": 2
}
