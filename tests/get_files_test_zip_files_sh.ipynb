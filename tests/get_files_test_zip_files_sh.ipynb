{
 "cells": [
  {
   "cell_type": "code",
   "execution_count": 3,
   "metadata": {},
   "outputs": [
    {
     "name": "stdout",
     "output_type": "stream",
     "text": [
      "-----\n",
      "Scraping from http://www.inegi.org.mx/est/contenidos/proyectos/accesomicrodatos/ce2009/default.aspx\n",
      "-----\n",
      "Successfully downloaded mono_industria_minera.pdf\n",
      "Successfully downloaded mono_hombres_mujeres.pdf\n",
      "Successfully downloaded mono_micro_peque_mediana.pdf\n",
      "Successfully downloaded mono_orgs_operadores_agua.pdf\n",
      "Successfully downloaded mono_po_no_depende_rs.pdf\n",
      "Successfully downloaded rd09-resumen.pdf\n",
      "Successfully downloaded ce2009_dbf.zip\n",
      "Successfully downloaded ce2009_dta.zip\n",
      "Successfully downloaded CE2009_xlsx.zip\n",
      "Successfully downloaded CE2009_CSV.zip\n",
      "-----\n",
      "Finished sraping from http://www.inegi.org.mx/est/contenidos/proyectos/accesomicrodatos/ce2009/default.aspx\n",
      "-----\n"
     ]
    }
   ],
   "source": [
    "url = \"http://www.inegi.org.mx/est/contenidos/proyectos/accesomicrodatos/ce2009/default.aspx\"\n",
    "import sys\n",
    "import os\n",
    "sys.path.append(os.path.join(\"C:\\Dropbox\",\"PythonTools\"))\n",
    "\n",
    "from get_files import get_files\n",
    "\n",
    "dest_folder = os.path.join(\"C:\\Dropbox\",\"PythonTools\",\"tests\",\"output\") \n",
    "\n",
    "get_files(url, ['pdf','zip'], folder=dest_folder, overwrite=True)"
   ]
  },
  {
   "cell_type": "code",
   "execution_count": null,
   "metadata": {},
   "outputs": [],
   "source": []
  }
 ],
 "metadata": {
  "kernelspec": {
   "display_name": "Python 3",
   "language": "python",
   "name": "python3"
  },
  "language_info": {
   "codemirror_mode": {
    "name": "ipython",
    "version": 3
   },
   "file_extension": ".py",
   "mimetype": "text/x-python",
   "name": "python",
   "nbconvert_exporter": "python",
   "pygments_lexer": "ipython3",
   "version": "3.6.4"
  }
 },
 "nbformat": 4,
 "nbformat_minor": 2
}
